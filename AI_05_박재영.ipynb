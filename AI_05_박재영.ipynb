{
  "nbformat": 4,
  "nbformat_minor": 0,
  "metadata": {
    "colab": {
      "name": "n1_pj_05_박재영.ipynb",
      "private_outputs": true,
      "provenance": [],
      "collapsed_sections": [],
      "machine_shape": "hm"
    },
    "kernelspec": {
      "name": "python3",
      "display_name": "Python 3"
    },
    "language_info": {
      "name": "python"
    },
    "accelerator": "GPU"
  },
  "cells": [
    {
      "cell_type": "code",
      "metadata": {
        "id": "ZkwJeDr6qw3-"
      },
      "source": [
        "from google.colab import files\n",
        "uploaded = files.upload()"
      ],
      "execution_count": null,
      "outputs": []
    },
    {
      "cell_type": "markdown",
      "metadata": {
        "id": "w1fzwVibpqNk"
      },
      "source": [
        "- Name : 게임의 이름입니다.\n",
        "- Platform : 게임이 지원되는 플랫폼의 이름입니다.\n",
        "- Year : 게임이 출시된 연도입니다.\n",
        "- Genre : 게임의 장르입니다.\n",
        "- Publisher : 게임을 제작한 회사입니다.\n",
        "- NA_Sales : 북미지역에서의 출고량입니다.\n",
        "- EU_Sales : 유럽지역에서의 출고량입니다.\n",
        "- JP_Sales : 일본지역에서의 출고량입니다.\n",
        "- Other_Sales : 기타지역에서의 출고량입니다.\n",
        "### 필수 내용\n",
        "- 지역에 따라서 선호하는 게임 장르가 다를까 라는 질문에 대답을 하셔야합니다.\n",
        "- 연도별 게임의 트렌드가 있을까 라는 질문에 대답을 하셔야합니다.\n",
        "- 출고량이 높은 게임에 대한 분석 및 시각화 프로세스가 포함되어야 합니다"
      ]
    },
    {
      "cell_type": "code",
      "metadata": {
        "id": "IGlIOfPpoK3T"
      },
      "source": [
        "import pandas as pd\n",
        "import numpy as np\n",
        "\n",
        "df = pd.read_csv('/content/vgames2_1.csv', index_col= 0)\n",
        "#df = df.sort_values(by=  , ascending=False) /특정컬럼기준으로 내림차순 정렬, (ascending)오름차순\n",
        "#df.shape /(16598, 9)\n",
        "df.head()\n",
        "# Year 결측지 4000으로 수정, 형태에 맞지 않는 값 형태 4자리 맞추기\n",
        "\n",
        "#year = df['Year'].isnull().sum() / 271 개의 결측치\n",
        "df['Year'] = df['Year'].fillna(4000)\n",
        "#year = df['Year'].isnull().sum() / 0 결측치 제거 완료\n",
        "\n",
        "#y_s = df['Year'].sum() /33643998.0  형태 변환전 숫치\n",
        "\n",
        "df['Year'] = pd.to_numeric(df['Year'], downcast='integer')\n",
        "\n",
        "def year_form(x) :\n",
        "  if 0 <= x <= 21 : \n",
        "    x = x + 2000\n",
        "  elif 22 <= x <= 99 :\n",
        "    x = x + 1900\n",
        "  else :\n",
        "    x = x\n",
        "  return x\n",
        "\n",
        "df['Year'] = df['Year'].apply(year_form)\n",
        "\n",
        "'''\n",
        "결측지 4000으로 바뀌었는지 확인\n",
        "year_check = df.sort_values(by='Year' , ascending=False)\n",
        "year_check\n",
        "#y_s = df['Year'].sum() /33842598 형태 수정후 합\n",
        "'''"
      ],
      "execution_count": null,
      "outputs": []
    },
    {
      "cell_type": "code",
      "metadata": {
        "id": "c-wHEf11EwmS"
      },
      "source": [
        "'''\n",
        "데이터 폼 변경후 오류 체크 이상무\n",
        "df = df[df.Year != 4000]\n",
        "df = df.sort_values(by='Year' , ascending=False)\n",
        "df\n",
        "'''"
      ],
      "execution_count": null,
      "outputs": []
    },
    {
      "cell_type": "markdown",
      "metadata": {
        "id": "GdoxQi0Dp307"
      },
      "source": [
        ""
      ]
    },
    {
      "cell_type": "code",
      "metadata": {
        "id": "9OTpUhMYrrFt"
      },
      "source": [
        "# 장르 결측치 = m_g, miss genre / 50개의 결측치\n",
        "df['Genre'] = df['Genre'].fillna('m_g')\n",
        "\n",
        "# 제작사 결측치 = m_p, miss publisher /203개의 결측치\n",
        "df['Publisher'] = df['Publisher'].fillna('m_p')\n",
        "df.info()"
      ],
      "execution_count": null,
      "outputs": []
    },
    {
      "cell_type": "markdown",
      "metadata": {
        "id": "DLsm_6ox_nrk"
      },
      "source": [
        "\n",
        "게임 출하량은 기준은 K로 둔다, 여기서 K와 M가 나오지만 m을 기준을 해버리면 100단위 수준의 판매량이 너무나 많이 나오게 되는데 국가 단위의 누적 출하량이 말도 않되게 작다, 그래서 K의 기준으로 데이터를 분석한다."
      ]
    },
    {
      "cell_type": "code",
      "metadata": {
        "id": "mO26gAjHomBV"
      },
      "source": [
        "df.info()"
      ],
      "execution_count": null,
      "outputs": []
    },
    {
      "cell_type": "code",
      "metadata": {
        "id": "cW79gGlJ-WXw"
      },
      "source": [
        "#K 제거\n",
        "df['NA_Sales'] = df['NA_Sales'].str.replace('K','')\n",
        "df['EU_Sales'] = df['EU_Sales'].str.replace('K','')\n",
        "df['JP_Sales'] = df['JP_Sales'].str.replace('K','')\n",
        "df['Other_Sales'] = df['Other_Sales'].str.replace('K','')\n",
        "\n",
        "#M 을 기준을 판별\n",
        "df['NA_Sales_M'] = df['NA_Sales'].str.contains('M')\n",
        "df['EU_Sales_M'] = df['EU_Sales'].str.contains('M')\n",
        "df['JP_Sales_M'] = df['JP_Sales'].str.contains('M')\n",
        "df['Other_Sales_M'] = df['Other_Sales'].str.contains('M')\n",
        "\n",
        "df['NA_Sales_M'] = df['NA_Sales_M'].replace({True: 10**3, False: 10**6})\n",
        "df['EU_Sales_M'] = df['EU_Sales_M'].replace({True: 10**3, False: 10**6})\n",
        "df['JP_Sales_M'] = df['JP_Sales_M'].replace({True: 10**3, False: 10**6})\n",
        "df['Other_Sales_M'] = df['Other_Sales_M'].replace({True: 10**3, False: 10**6})\n",
        "\n",
        "#M 제거\n",
        "df['NA_Sales'] = df['NA_Sales'].str.replace('M','')\n",
        "df['EU_Sales'] = df['EU_Sales'].str.replace('M','')\n",
        "df['JP_Sales'] = df['JP_Sales'].str.replace('M','')\n",
        "df['Other_Sales'] = df['Other_Sales'].str.replace('M','')"
      ],
      "execution_count": null,
      "outputs": []
    },
    {
      "cell_type": "code",
      "metadata": {
        "id": "hOjNFV5TQ6LD"
      },
      "source": [
        "df.info()"
      ],
      "execution_count": null,
      "outputs": []
    },
    {
      "cell_type": "code",
      "metadata": {
        "id": "ZdVC9j-kZgPH"
      },
      "source": [
        ""
      ],
      "execution_count": null,
      "outputs": []
    },
    {
      "cell_type": "code",
      "metadata": {
        "id": "nABj0p5xXFOE"
      },
      "source": [
        "df[['NA_Sales', 'EU_Sales', 'JP_Sales', 'Other_Sales']] = df[['NA_Sales', 'EU_Sales', 'JP_Sales', 'Other_Sales']].apply(pd.to_numeric)"
      ],
      "execution_count": null,
      "outputs": []
    },
    {
      "cell_type": "code",
      "metadata": {
        "id": "v4AM1X-dRlGk"
      },
      "source": [
        "# 단위 곱하기\n",
        "df['NA_Sales'] = df['NA_Sales'].multiply(df['NA_Sales_M'])\n",
        "df['EU_Sales'] = df['EU_Sales'].multiply(df['EU_Sales_M'])\n",
        "df['JP_Sales'] = df['JP_Sales'].multiply(df['JP_Sales_M'])\n",
        "df['Other_Sales'] = df['Other_Sales'].multiply(df['Other_Sales_M'])\n"
      ],
      "execution_count": null,
      "outputs": []
    },
    {
      "cell_type": "code",
      "metadata": {
        "id": "OZT1i2JhhrcO"
      },
      "source": [
        "df['NA_Sales'] = df['NA_Sales'].astype(int)\n",
        "df['EU_Sales'] = df['EU_Sales'].astype(int)\n",
        "df['JP_Sales'] = df['JP_Sales'].astype(int)\n",
        "df['Other_Sales'] = df['Other_Sales'].astype(int)"
      ],
      "execution_count": null,
      "outputs": []
    },
    {
      "cell_type": "code",
      "metadata": {
        "id": "e4SYwTDZaO4E"
      },
      "source": [
        "#df 정리\n",
        "df = df.loc[:,['Name', 'Platform', 'Year', 'Genre', 'Publisher', 'NA_Sales', 'EU_Sales', 'JP_Sales', 'Other_Sales']]"
      ],
      "execution_count": null,
      "outputs": []
    },
    {
      "cell_type": "markdown",
      "metadata": {
        "id": "kts9QNOIhoyQ"
      },
      "source": [
        ""
      ]
    },
    {
      "cell_type": "code",
      "metadata": {
        "id": "_DXhoiBkrJxF"
      },
      "source": [
        ""
      ],
      "execution_count": null,
      "outputs": []
    },
    {
      "cell_type": "code",
      "metadata": {
        "id": "RrJUCmjAf0W3"
      },
      "source": [
        "df.head(10)"
      ],
      "execution_count": null,
      "outputs": []
    },
    {
      "cell_type": "code",
      "metadata": {
        "id": "yawEJRj9jytH"
      },
      "source": [
        "  df.to_csv(\"vgames2_EDA.csv\")"
      ],
      "execution_count": null,
      "outputs": []
    },
    {
      "cell_type": "code",
      "metadata": {
        "id": "ZXCrIU2pn3Gy"
      },
      "source": [
        "#sum 은 4개지역의 출하량 합\n",
        "df['area_sum'] =  df['NA_Sales'] + df['EU_Sales'] + df['JP_Sales'] + df['Other_Sales']\n",
        "df.head()"
      ],
      "execution_count": null,
      "outputs": []
    },
    {
      "cell_type": "code",
      "metadata": {
        "id": "jk3-m8RMrhIo"
      },
      "source": [
        "df = df.sort_values(by= 'JP_Sales'  , ascending=False)\n",
        "df.head(50)"
      ],
      "execution_count": null,
      "outputs": []
    },
    {
      "cell_type": "code",
      "metadata": {
        "id": "qao1qIEXyILy"
      },
      "source": [
        "import matplotlib\n",
        "import matplotlib.pyplot as plt\n",
        "%matplotlib inline\n",
        "#지역에 따라서 선호하는 게임 장르\n",
        "area_NA = df #copy\n",
        "area_NA = area_NA['NA_Sales'].groupby(area_NA['Genre']).sum()\n",
        "area_EU = df #copy\n",
        "area_EU = area_EU['EU_Sales'].groupby(area_EU['Genre']).sum()\n",
        "area_JP = df #copy\n",
        "area_JP = area_JP['NA_Sales'].groupby(area_JP['Genre']).sum()\n",
        "area_Other = df #copy\n",
        "area_Other = area_Other['Other_Sales'].groupby(area_Other['Genre']).sum()\n",
        "area_sum = df #copy\n",
        "area_sum = area_sum['area_sum'].groupby(area_sum['Genre']).sum()\n",
        "\n",
        "#내림 차순 정렬\n",
        "area_NA = area_NA.sort_values(ascending=False)\n",
        "area_EU = area_EU.sort_values(ascending=False)\n",
        "area_JP = area_JP.sort_values(ascending=False)\n",
        "area_Other = area_Other.sort_values(ascending=False)\n",
        "area_sum = area_sum.sort_values(ascending=False)"
      ],
      "execution_count": null,
      "outputs": []
    },
    {
      "cell_type": "code",
      "metadata": {
        "id": "jlpjwrz8BmvP"
      },
      "source": [
        "genre_list = ['Action', 'Racing', 'm_g', 'Sports', 'Misc', 'platform', 'Shooter', 'Simulation', 'Role-Playing', 'Fighting', 'Strategy', 'Puzzle', 'Adventure']\n",
        "fig = plt.figure(figsize=(8, 8))\n",
        "fig.set_facecolor('white')\n",
        "ax = fig.add_subplot()\n",
        "ax.pie(x=area_NA, labels = genre_list, autopct = lambda p :'{:.2f}%'.format(p))\n",
        "plt.show()"
      ],
      "execution_count": null,
      "outputs": []
    },
    {
      "cell_type": "code",
      "metadata": {
        "id": "-CApmFZ-fSKy"
      },
      "source": [
        "fig = plt.figure(figsize=(8, 8))\n",
        "fig.set_facecolor('white')\n",
        "ax = fig.add_subplot()\n",
        "ax.pie(x=area_EU, labels = genre_list, autopct = lambda p :'{:.2f}%'.format(p))\n",
        "plt.show()"
      ],
      "execution_count": null,
      "outputs": []
    },
    {
      "cell_type": "code",
      "metadata": {
        "id": "2Qb6_vCtgi6z"
      },
      "source": [
        "fig = plt.figure(figsize=(8, 8))\n",
        "fig.set_facecolor('white')\n",
        "ax = fig.add_subplot()\n",
        "ax.pie(x=area_JP, labels = genre_list, autopct = lambda p :'{:.2f}%'.format(p))\n",
        "plt.show()"
      ],
      "execution_count": null,
      "outputs": []
    },
    {
      "cell_type": "code",
      "metadata": {
        "id": "uRHROIrzgw_d"
      },
      "source": [
        "fig = plt.figure(figsize=(8, 8))\n",
        "fig.set_facecolor('white')\n",
        "ax = fig.add_subplot()\n",
        "ax.pie(x=area_Other, labels = genre_list, autopct = lambda p :'{:.2f}%'.format(p))\n",
        "plt.show()"
      ],
      "execution_count": null,
      "outputs": []
    },
    {
      "cell_type": "code",
      "metadata": {
        "id": "w5B6Rs9cg8AI"
      },
      "source": [
        "fig = plt.figure(figsize=(8, 8))\n",
        "fig.set_facecolor('white')\n",
        "ax = fig.add_subplot()\n",
        "ax.pie(x=area_sum, labels = genre_list, autopct = lambda p :'{:.2f}%'.format(p))\n",
        "plt.show()"
      ],
      "execution_count": null,
      "outputs": []
    },
    {
      "cell_type": "code",
      "metadata": {
        "id": "d43419CmHkaf"
      },
      "source": [
        "area_sum = df[df['Year'].isin(['2010', '2011', '2012', '2013', '2014', '2015', '2016', '2017', '2018', '2019', '2020'])] #copy\n",
        "area_sum = area_sum['area_sum'].groupby(area_sum['Genre']).sum()\n",
        "\n",
        "\n",
        "fig = plt.figure(figsize=(8, 8))\n",
        "fig.set_facecolor('white')\n",
        "ax = fig.add_subplot()\n",
        "ax.pie(x=area_sum, labels = genre_list, autopct = lambda p :'{:.2f}%'.format(p))\n",
        "plt.show()"
      ],
      "execution_count": null,
      "outputs": []
    },
    {
      "cell_type": "code",
      "metadata": {
        "id": "QklhnNL2KAJe"
      },
      "source": [
        "area_sum = df[df['Year'].isin(['2015', '2016', '2017', '2018', '2019', '2020'])] #copy\n",
        "area_sum = area_sum['area_sum'].groupby(area_sum['Genre']).sum()\n",
        "\n",
        "\n",
        "fig = plt.figure(figsize=(8, 8))\n",
        "fig.set_facecolor('white')\n",
        "ax = fig.add_subplot()\n",
        "ax.pie(x=area_sum, labels = genre_list, autopct = lambda p :'{:.2f}%'.format(p))\n",
        "plt.show()"
      ],
      "execution_count": null,
      "outputs": []
    },
    {
      "cell_type": "code",
      "metadata": {
        "id": "7wvQ97ZWiYXK"
      },
      "source": [
        "#)연도별 게임의 출시트렌드\n",
        "\n",
        "#area_NA = area_NA['NA_Sales'].groupby(area_NA['Genre']).sum()"
      ],
      "execution_count": null,
      "outputs": []
    },
    {
      "cell_type": "code",
      "metadata": {
        "id": "1pU7IKaWHjsE"
      },
      "source": [
        "area_sum = df[df['Year'].isin(['2016', '2017', '2018', '2019', '2020'])] #copy\n",
        "#area_sum = area_sum['area_sum'].groupby(area_sum['Genre']).sum()\n",
        "area_sum = area_sum['Genre']\n",
        "genre_list = ['Action', 'Racing', 'm_g', 'Sports', 'Misc', 'platform', 'Shooter', 'Simulation', 'Role-Playing', 'Fighting', 'Strategy', 'Puzzle', 'Adventure']\n",
        "'''\n",
        "fig = plt.figure(figsize=(8, 8))\n",
        "fig.set_facecolor('white')\n",
        "ax = fig.add_subplot()\n",
        "ax.pie(x=area_sum, labels = genre_list, autopct = lambda p :'{:.2f}%'.format(p))\n",
        "plt.show()\n",
        "'''"
      ],
      "execution_count": null,
      "outputs": []
    },
    {
      "cell_type": "code",
      "metadata": {
        "id": "79YXglbZp6vT"
      },
      "source": [
        "genre_list = ['Action', 'Racing', 'm_g', 'Sports', 'Misc', 'platform', 'Shooter', 'Simulation', 'Role-Playing', 'Fighting', 'Strategy', 'Puzzle', 'Adventure']\n",
        "\n",
        "g_count = df['Genre'].value_counts()\n",
        "g_count"
      ],
      "execution_count": null,
      "outputs": []
    },
    {
      "cell_type": "code",
      "metadata": {
        "id": "0MpqNANLvnTC"
      },
      "source": [
        "y1980 = df[df['Year'].isin(['1980'])]\n",
        "y1981 = df[df['Year'].isin(['1981'])]\n",
        "y1982 = df[df['Year'].isin(['1982'])]\n",
        "y1983 = df[df['Year'].isin(['1983'])]\n",
        "y1984 = df[df['Year'].isin(['1984'])]\n",
        "y1985 = df[df['Year'].isin(['1985'])]\n",
        "y1986 = df[df['Year'].isin(['1986'])]\n",
        "y1987 = df[df['Year'].isin(['1987'])]\n",
        "y1988 = df[df['Year'].isin(['1988'])]\n",
        "y1989 = df[df['Year'].isin(['1989'])]\n",
        "y1990 = df[df['Year'].isin(['1990'])]\n",
        "y1991 = df[df['Year'].isin(['1991'])]\n",
        "y1992 = df[df['Year'].isin(['1992'])]\n",
        "y1993 = df[df['Year'].isin(['1993'])]\n",
        "y1994 = df[df['Year'].isin(['1994'])]\n",
        "y1995 = df[df['Year'].isin(['1995'])]\n",
        "y1996 = df[df['Year'].isin(['1996'])]\n",
        "y1997 = df[df['Year'].isin(['1997'])]\n",
        "y1998 = df[df['Year'].isin(['1998'])]\n",
        "y1999 = df[df['Year'].isin(['1999'])]\n",
        "y2000 = df[df['Year'].isin(['2000'])]\n",
        "y2001 = df[df['Year'].isin(['2001'])]\n",
        "y2002 = df[df['Year'].isin(['2002'])]\n",
        "y2003 = df[df['Year'].isin(['2003'])]\n",
        "y2004 = df[df['Year'].isin(['2004'])]\n",
        "y2005 = df[df['Year'].isin(['2005'])]\n",
        "y2006 = df[df['Year'].isin(['2006'])]\n",
        "y2007 = df[df['Year'].isin(['2007'])]\n",
        "y2008 = df[df['Year'].isin(['2008'])]\n",
        "y2009 = df[df['Year'].isin(['2009'])]\n",
        "y2010 = df[df['Year'].isin(['2010'])]\n",
        "y2011 = df[df['Year'].isin(['2011'])]\n",
        "y2012 = df[df['Year'].isin(['2012'])]\n",
        "y2013 = df[df['Year'].isin(['2013'])]\n",
        "y2014 = df[df['Year'].isin(['2014'])]\n",
        "y2015 = df[df['Year'].isin(['2015'])]\n",
        "y2016 = df[df['Year'].isin(['2016'])]\n",
        "y2017 = df[df['Year'].isin(['2017'])]\n",
        "y2018 = df[df['Year'].isin(['2018'])]\n",
        "y2019 = df[df['Year'].isin(['2019'])]\n",
        "y2020 = df[df['Year'].isin(['2020'])]\n",
        "y4000 = df[df['Year'].isin(['4000'])]"
      ],
      "execution_count": null,
      "outputs": []
    },
    {
      "cell_type": "code",
      "metadata": {
        "id": "h6htls464LPG"
      },
      "source": [
        "y_g1980 = y1980['Genre'].value_counts()\n",
        "y_g1981 = y1980['Genre'].value_counts()\n",
        "y_g1982 = y1980['Genre'].value_counts()\n",
        "y_g1983 = y1980['Genre'].value_counts()\n",
        "y_g1984 = y1980['Genre'].value_counts()\n",
        "y_g1985 = y1980['Genre'].value_counts()\n",
        "y_g1986 = y1980['Genre'].value_counts()\n",
        "y_g1987 = y1980['Genre'].value_counts()\n",
        "y_g1988 = y1980['Genre'].value_counts()\n",
        "y_g1989 = y1980['Genre'].value_counts()\n",
        "y_g1990 = y1980['Genre'].value_counts()\n",
        "y_g1991 = y1980['Genre'].value_counts()\n",
        "y_g1992 = y1980['Genre'].value_counts()\n",
        "y_g1993 = y1980['Genre'].value_counts()\n",
        "y_g1994 = y1980['Genre'].value_counts()\n",
        "y_g1995 = y1980['Genre'].value_counts()\n",
        "y_g1996 = y1980['Genre'].value_counts()\n",
        "y_g1997 = y1980['Genre'].value_counts()\n",
        "y_g1998 = y1980['Genre'].value_counts()\n",
        "y_g1999 = y1980['Genre'].value_counts()\n",
        "y_g2000 = y2000['Genre'].value_counts()\n",
        "y_g2001 = y2001['Genre'].value_counts()\n",
        "y_g2002 = y2002['Genre'].value_counts()\n",
        "y_g2003 = y2003['Genre'].value_counts()\n",
        "y_g2004 = y2004['Genre'].value_counts()\n",
        "y_g2005 = y2005['Genre'].value_counts()\n",
        "y_g2006 = y2006['Genre'].value_counts()\n",
        "y_g2007 = y2007['Genre'].value_counts()\n",
        "y_g2008 = y2008['Genre'].value_counts()\n",
        "y_g2009 = y2009['Genre'].value_counts()\n",
        "y_g2010 = y2010['Genre'].value_counts()\n",
        "y_g2011 = y2011['Genre'].value_counts()\n",
        "y_g2012 = y2012['Genre'].value_counts()\n",
        "y_g2013 = y2013['Genre'].value_counts()\n",
        "y_g2014 = y2014['Genre'].value_counts()\n",
        "y_g2015 = y2015['Genre'].value_counts()\n",
        "y_g2016 = y2016['Genre'].value_counts()\n",
        "y_g2017 = y2017['Genre'].value_counts()\n",
        "y_g2018 = y2018['Genre'].value_counts()\n",
        "y_g2019 = y2019['Genre'].value_counts()\n",
        "y_g2020 = y2020['Genre'].value_counts()\n",
        "y_g4000 = y4000['Genre'].value_counts()\n"
      ],
      "execution_count": null,
      "outputs": []
    },
    {
      "cell_type": "code",
      "metadata": {
        "id": "UvhWwioy7RgR"
      },
      "source": [
        "y_g = pd.concat([y_g1980,y_g1981,y_g1982,y_g1983,y_g1984,y_g1985,y_g1986, y_g1987, y_g1988, y_g1989, y_g1990, y_g1991, y_g1992, y_g1993, y_g1994, y_g1995, y_g1996, y_g1997, y_g1998, y_g1999, y_g2000, y_g2001, y_g2002, y_g2003, y_g2004, y_g2005, y_g2006, y_g2007, y_g2008, y_g2009, y_g2010, y_g2011, y_g2012, y_g2013, y_g2014, y_g2015, y_g2016, y_g2017, y_g2018, y_g2019, y_g2020, y_g4000,g_count], axis=1)\n",
        "\n",
        "y_g.columns = ['1980', '1981', '1982', '1983', '1984', '1985', '1986', '1987', '1988', '1989', '1990', '1991', '1992', '1993', '1994', '1995', '1996', '1997', '1998', '1999','2000', '2001', '2002', '2003', '2004', '2005', '2006', '2007', '2008', '2009', '2010', '2011', '2012', '2013', '2014', '2015', '2016', '2017', '2018', '2019', '2020', '4000', 'sum']\n",
        "y_g = y_g.rename(index={'':'gemre'}  )\n",
        "y_g = y_g.fillna(value= 0)\n",
        "y_g = y_g.astype(int)\n",
        "y_g.head(13)\n"
      ],
      "execution_count": null,
      "outputs": []
    },
    {
      "cell_type": "markdown",
      "metadata": {
        "id": "da7CARXruU0f"
      },
      "source": [
        ""
      ]
    },
    {
      "cell_type": "code",
      "metadata": {
        "id": "VIPYekP7WOnu"
      },
      "source": [
        "y_g_s = pd.concat([y_g2000, y_g2001, y_g2002, y_g2003, y_g2004, y_g2005, y_g2006, y_g2007, y_g2008, y_g2009, y_g2010, y_g2011, y_g2012, y_g2013, y_g2014, y_g2015, y_g2016, y_g2017, y_g2020, y_g4000,g_count], axis=1)\n",
        "\n",
        "y_g_s.columns = ['2000', '2001', '2002', '2003', '2004', '2005', '2006', '2007', '2008', '2009', '2010', '2011', '2012', '2013', '2014', '2015', '2016', '2017', '2020', '4000', 'sum']\n",
        "y_g_s = y_g_s.rename(index={'':'gemre'}  )\n",
        "y_g_s = y_g_s.fillna(value= 0)\n",
        "y_g_s = y_g_s.astype(int)\n",
        "y_g_s.head(13)\n"
      ],
      "execution_count": null,
      "outputs": []
    },
    {
      "cell_type": "markdown",
      "metadata": {
        "id": "_idY-zmzA8XM"
      },
      "source": [
        ""
      ]
    }
  ]
}